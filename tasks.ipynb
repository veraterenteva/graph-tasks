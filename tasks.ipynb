{
 "cells": [
  {
   "cell_type": "markdown",
   "id": "06343bcb",
   "metadata": {},
   "source": [
    "### Task 1 - Build Four Graph Variants\n",
    "Using **the same base graph structure as in your written homework (the manual DFS/DFS exercise)**, construct:\n",
    "\n",
    "- Weighted Directed graph\n",
    "- Weighted Undirected graph\n",
    "- Unweighted Undirected graph\n",
    "- Unweighted Directed graph\n"
   ]
  },
  {
   "cell_type": "code",
   "execution_count": null,
   "id": "6c3f45f2",
   "metadata": {},
   "outputs": [],
   "source": [
    "### your code here"
   ]
  },
  {
   "cell_type": "markdown",
   "id": "2ea89f38",
   "metadata": {},
   "source": [
    "### Task 2 - Apply Algorithms (BFS, DFS, Components, Stats)\n",
    "After you implement the TODO's in algorithmics.py and the required representations in graph_abc.py:\n",
    "\n",
    "For unweighted directed and undirected graphs:\n",
    "1. Run BFS from a chosen start vertex (note your choice).\n",
    "2. Run DFS from the same start vertex.\n",
    "3. Compute connected components:\n",
    "    - For undirected graphs: standard components.\n",
    "    - For directed graphs: weakly connected components (ignore directions).\n",
    "\n",
    "4. Compute component statistics: for each component, report\n",
    "    - vertices (sorted),\n",
    "    - node_count,\n",
    "    - edge_count (count undirected edges once; count directed edges with both endpoints in the component),\n",
    "    - smallest_vertex"
   ]
  },
  {
   "cell_type": "code",
   "execution_count": null,
   "id": "d6560a9b",
   "metadata": {},
   "outputs": [],
   "source": [
    "### your code here"
   ]
  },
  {
   "cell_type": "markdown",
   "id": "ce0b9cd2",
   "metadata": {},
   "source": [
    "### Task 3 - Visualize One Graph with NetworkX\n",
    "Pick any one of the four graphs (the most interesting one) and draw it using NetworkX."
   ]
  },
  {
   "cell_type": "code",
   "execution_count": null,
   "id": "6ab608c6",
   "metadata": {},
   "outputs": [],
   "source": [
    "#!pip install networkx "
   ]
  }
 ],
 "metadata": {
  "kernelspec": {
   "display_name": ".practic_8",
   "language": "python",
   "name": "python3"
  },
  "language_info": {
   "codemirror_mode": {
    "name": "ipython",
    "version": 3
   },
   "file_extension": ".py",
   "mimetype": "text/x-python",
   "name": "python",
   "nbconvert_exporter": "python",
   "pygments_lexer": "ipython3",
   "version": "3.10.0"
  }
 },
 "nbformat": 4,
 "nbformat_minor": 5
}

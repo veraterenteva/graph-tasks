{
 "cells": [
  {
   "cell_type": "markdown",
   "id": "06343bcb",
   "metadata": {},
   "source": [
    "### Task 1 - Build Four Graph Variants\n",
    "Using **the same base graph structure as in your written homework (the manual DFS/DFS exercise)**, construct:\n",
    "\n",
    "- Weighted Directed graph\n",
    "- Weighted Undirected graph\n",
    "- Unweighted Undirected graph\n",
    "- Unweighted Directed graph\n"
   ]
  },
  {
   "cell_type": "markdown",
   "id": "8c165f74-1346-467d-87be-377018446b12",
   "metadata": {},
   "source": [
    "Let’s define a small directed graph with 5 vertices (very demure, very petite) and these connections:  \n",
    "0 -> 1   \n",
    "0 -> 2    \n",
    "1 -> 3    \n",
    "2 -> 3    \n",
    "3 -> 4   "
   ]
  },
  {
   "cell_type": "markdown",
   "id": "21a5c0ba-1f18-4bc2-9600-3f7f0f22983d",
   "metadata": {},
   "source": [
    "For weighted one let's assign weights to the edges like  \n",
    "0 -> 1 (2.5)  \n",
    "0 -> 2 (1.0)  \n",
    "1 -> 3 (3.5)  \n",
    "2 -> 3 (2.0)  \n",
    "3 -> 4 (4.5)  "
   ]
  },
  {
   "cell_type": "code",
   "execution_count": 119,
   "id": "c9630dd9-6f4e-4431-9849-9fc2b66d74d8",
   "metadata": {},
   "outputs": [],
   "source": [
    "from graph_factory import GraphFactory\n",
    "from algorithmics import GraphAlgorithms"
   ]
  },
  {
   "cell_type": "code",
   "execution_count": 120,
   "id": "6c3f45f2",
   "metadata": {},
   "outputs": [
    {
     "name": "stdout",
     "output_type": "stream",
     "text": [
      "Weighted Directed - Adjacency List:\n",
      "{0: [(1, 2.5), (2, 1.0)], 1: [(3, 3.5)], 2: [(3, 2.0)], 3: [(4, 4.5)], 4: []}\n",
      "[[0.0, 2.5, 1.0, 0.0, 0.0], [0.0, 0.0, 0.0, 3.5, 0.0], [0.0, 0.0, 0.0, 2.0, 0.0], [0.0, 0.0, 0.0, 0.0, 4.5], [0.0, 0.0, 0.0, 0.0, 0.0]]\n",
      "\n",
      "Weighted Undirected - Adjacency List:\n",
      "{0: [(1, 2.5), (2, 1.0)], 1: [(0, 2.5), (3, 3.5)], 2: [(0, 1.0), (3, 2.0)], 3: [(1, 3.5), (2, 2.0), (4, 4.5)], 4: [(3, 4.5)]}\n",
      "[[0.0, 2.5, 1.0, 0.0, 0.0], [2.5, 0.0, 0.0, 3.5, 0.0], [1.0, 0.0, 0.0, 2.0, 0.0], [0.0, 3.5, 2.0, 0.0, 4.5], [0.0, 0.0, 0.0, 4.5, 0.0]]\n",
      "\n",
      "Unweighted Directed - Adjacency List:\n",
      "{0: [(1, 1.0), (2, 1.0)], 1: [(3, 1.0)], 2: [(3, 1.0)], 3: [(4, 1.0)], 4: []}\n",
      "[[0.0, 1.0, 1.0, 0.0, 0.0], [0.0, 0.0, 0.0, 1.0, 0.0], [0.0, 0.0, 0.0, 1.0, 0.0], [0.0, 0.0, 0.0, 0.0, 1.0], [0.0, 0.0, 0.0, 0.0, 0.0]]\n",
      "\n",
      "Unweighted Undirected - Adjacency List:\n",
      "{0: [(1, 1.0), (2, 1.0)], 1: [(0, 1.0), (3, 1.0)], 2: [(0, 1.0), (3, 1.0)], 3: [(1, 1.0), (2, 1.0), (4, 1.0)], 4: [(3, 1.0)]}\n",
      "[[0.0, 1.0, 1.0, 0.0, 0.0], [1.0, 0.0, 0.0, 1.0, 0.0], [1.0, 0.0, 0.0, 1.0, 0.0], [0.0, 1.0, 1.0, 0.0, 1.0], [0.0, 0.0, 0.0, 1.0, 0.0]]\n",
      "\n"
     ]
    }
   ],
   "source": [
    "weighted_edges = [\n",
    "    (0, 1, 2.5),\n",
    "    (0, 2, 1.0),\n",
    "    (1, 3, 3.5),\n",
    "    (2, 3, 2.0),\n",
    "    (3, 4, 4.5)\n",
    "]\n",
    "\n",
    "unweighted_edges = [(u, v, 1.0) for (u, v, _) in weighted_edges]\n",
    "\n",
    "# Weighted directed\n",
    "weighted_directed = GraphFactory.from_edges(vertices=5, edges=weighted_edges, directed=True)\n",
    "print(\"Weighted Directed - Adjacency List:\")\n",
    "print(weighted_directed.get_adjacency_list())\n",
    "print(weighted_directed.get_adjacency_matrix())\n",
    "print()\n",
    "\n",
    "# Weighted undirected Graph\n",
    "weighted_undirected = GraphFactory.from_edges(vertices=5, edges=weighted_edges, directed=False)\n",
    "print(\"Weighted Undirected - Adjacency List:\")\n",
    "print(weighted_undirected.get_adjacency_list())\n",
    "print(weighted_undirected.get_adjacency_matrix())\n",
    "print()\n",
    "\n",
    "# Unweighted directed Graph\n",
    "unweighted_directed = GraphFactory.from_edges(vertices=5, edges=unweighted_edges, directed=True)\n",
    "print(\"Unweighted Directed - Adjacency List:\")\n",
    "print(unweighted_directed.get_adjacency_list())\n",
    "print(unweighted_directed.get_adjacency_matrix())\n",
    "print()\n",
    "\n",
    "# Unweighted undirected Graph\n",
    "unweighted_undirected = GraphFactory.from_edges(vertices=5, edges=unweighted_edges, directed=False)\n",
    "print(\"Unweighted Undirected - Adjacency List:\")\n",
    "print(unweighted_undirected.get_adjacency_list())\n",
    "print(unweighted_undirected.get_adjacency_matrix())\n",
    "print()\n"
   ]
  },
  {
   "cell_type": "markdown",
   "id": "2ea89f38",
   "metadata": {},
   "source": [
    "### Task 2 - Apply Algorithms (BFS, DFS, Components, Stats)\n",
    "After you implement the TODO's in algorithmics.py and the required representations in graph_abc.py:\n",
    "\n",
    "For unweighted directed and undirected graphs:\n",
    "1. Run BFS from a chosen start vertex (note your choice).\n",
    "2. Run DFS from the same start vertex.\n",
    "3. Compute connected components:\n",
    "    - For undirected graphs: standard components.\n",
    "    - For directed graphs: weakly connected components (ignore directions).\n",
    "\n",
    "4. Compute component statistics: for each component, report\n",
    "    - vertices (sorted),\n",
    "    - node_count,\n",
    "    - edge_count (count undirected edges once; count directed edges with both endpoints in the component),\n",
    "    - smallest_vertex"
   ]
  },
  {
   "cell_type": "markdown",
   "id": "52a20664-81e9-4f67-b430-89c25128d452",
   "metadata": {},
   "source": [
    "#### Undirected graph"
   ]
  },
  {
   "cell_type": "markdown",
   "id": "39fe9840-1f3e-4439-83a2-eda66b6a48c1",
   "metadata": {},
   "source": [
    "Let's add one more component to the list of edges"
   ]
  },
  {
   "cell_type": "code",
   "execution_count": 121,
   "id": "0e00fe0f-4274-4d04-be55-cd1decd9de7a",
   "metadata": {},
   "outputs": [],
   "source": [
    "weighted_edges = [\n",
    "    (0, 1, 2.5),\n",
    "    (0, 2, 1.0),\n",
    "    (1, 3, 3.5),\n",
    "    (2, 3, 2.0),\n",
    "    (3, 4, 4.5),\n",
    "    (6, 5, 2.0),\n",
    "    (5, 6, 2.0)\n",
    "]\n",
    "weighted_undirected = GraphFactory.from_edges(vertices=7, edges=weighted_edges, directed=False)"
   ]
  },
  {
   "cell_type": "markdown",
   "id": "e09818fd-3668-4240-8709-20b7038420d6",
   "metadata": {},
   "source": [
    "Evidently, BFS and DFS work only with vertices within reach"
   ]
  },
  {
   "cell_type": "code",
   "execution_count": 122,
   "id": "d2e85bd6-5dae-4a99-8665-300d2e524fc3",
   "metadata": {},
   "outputs": [
    {
     "name": "stdout",
     "output_type": "stream",
     "text": [
      "Adjacency list:\n",
      "{0: [(1, 2.5), (2, 1.0)], 1: [(0, 2.5), (3, 3.5)], 2: [(0, 1.0), (3, 2.0)], 3: [(1, 3.5), (2, 2.0), (4, 4.5)], 4: [(3, 4.5)], 5: [(6, 2.0)], 6: [(5, 2.0)]}\n",
      "BFS order: [0, 1, 2, 3, 4]\n",
      "DFS order: [0, 1, 3, 2, 4]\n",
      "BFS order: [5, 6]\n",
      "DFS order: [5, 6]\n",
      "Connected components: [[0, 1, 2, 3, 4], [5, 6]]\n",
      "Component statistics:\n",
      "{'vertices': [0, 1, 2, 3, 4], 'node_count': 5, 'edge_count': 5, 'smallest_vertex': 0}\n",
      "{'vertices': [5, 6], 'node_count': 2, 'edge_count': 1, 'smallest_vertex': 5}\n"
     ]
    }
   ],
   "source": [
    "print(\"Adjacency list:\")\n",
    "print(weighted_undirected.get_adjacency_list())\n",
    "\n",
    "bfs_undir = GraphAlgorithms.bfs(weighted_undirected, 0) # start from default vertex\n",
    "dfs_undir = GraphAlgorithms.dfs(weighted_undirected, 0)\n",
    "print(\"BFS order:\", bfs_undir)\n",
    "print(\"DFS order:\", dfs_undir)\n",
    "bfs_undir = GraphAlgorithms.bfs(weighted_undirected, 5)\n",
    "dfs_undir = GraphAlgorithms.dfs(weighted_undirected, 5)\n",
    "print(\"BFS order:\", bfs_undir)\n",
    "print(\"DFS order:\", dfs_undir)\n",
    "\n",
    "components_undir = GraphAlgorithms.connected_components(weighted_undirected)\n",
    "print(\"Connected components:\", components_undir)\n",
    "\n",
    "stats_undir = GraphAlgorithms.components_with_stats(weighted_undirected)\n",
    "print(\"Component statistics:\")\n",
    "for s in stats_undir:\n",
    "    print(s)"
   ]
  },
  {
   "cell_type": "markdown",
   "id": "c313f689-0af7-4f5d-8a88-2500bf5aac40",
   "metadata": {},
   "source": [
    "#### Directed graph"
   ]
  },
  {
   "cell_type": "code",
   "execution_count": 123,
   "id": "41c15454-5471-46af-9b8b-3b41e62495b3",
   "metadata": {},
   "outputs": [],
   "source": [
    "weighted_edges = [\n",
    "    (0, 1, 2.5),\n",
    "    (0, 2, 1.0),\n",
    "    (1, 3, 3.5),\n",
    "    (2, 3, 2.0),\n",
    "    (3, 4, 4.5),\n",
    "    (6, 5, 2.0),\n",
    "    (5, 6, 4.0),\n",
    "    \n",
    "]\n",
    "weighted_directed = GraphFactory.from_edges(vertices=7, edges=weighted_edges, directed=True)"
   ]
  },
  {
   "cell_type": "code",
   "execution_count": 124,
   "id": "e30e16f8-eb4f-407c-911f-7266fded4b6d",
   "metadata": {},
   "outputs": [
    {
     "name": "stdout",
     "output_type": "stream",
     "text": [
      "Adjacency list:\n",
      "{0: [(1, 2.5), (2, 1.0)], 1: [(3, 3.5)], 2: [(3, 2.0)], 3: [(4, 4.5)], 4: [], 5: [(6, 4.0)], 6: [(5, 2.0)]}\n",
      "BFS order: [0, 1, 2, 3, 4]\n",
      "DFS order: [0, 1, 3, 4, 2]\n",
      "Connected components: [[0, 1, 2, 3, 4], [5, 6]]\n",
      "Component statistics:\n",
      "{'vertices': [0, 1, 2, 3, 4], 'node_count': 5, 'edge_count': 5, 'smallest_vertex': 0}\n",
      "{'vertices': [5, 6], 'node_count': 2, 'edge_count': 2, 'smallest_vertex': 5}\n"
     ]
    }
   ],
   "source": [
    "print(\"Adjacency list:\")\n",
    "print(weighted_directed.get_adjacency_list())\n",
    "\n",
    "bfs_undir = GraphAlgorithms.bfs(weighted_directed, 0) # start from default vertex\n",
    "dfs_undir = GraphAlgorithms.dfs(weighted_directed, 0)\n",
    "print(\"BFS order:\", bfs_undir)\n",
    "print(\"DFS order:\", dfs_undir)\n",
    "\n",
    "components_undir = GraphAlgorithms.connected_components(weighted_directed)\n",
    "print(\"Connected components:\", components_undir)\n",
    "\n",
    "stats_undir = GraphAlgorithms.components_with_stats(weighted_directed)\n",
    "print(\"Component statistics:\")\n",
    "for s in stats_undir:\n",
    "    print(s)"
   ]
  },
  {
   "cell_type": "markdown",
   "id": "ce0b9cd2",
   "metadata": {},
   "source": [
    "### Task 3 - Visualize One Graph with NetworkX\n",
    "Pick any one of the four graphs (the most interesting one) and draw it using NetworkX."
   ]
  },
  {
   "cell_type": "code",
   "execution_count": 125,
   "id": "6ab608c6",
   "metadata": {},
   "outputs": [
    {
     "name": "stdout",
     "output_type": "stream",
     "text": [
      "Requirement already satisfied: networkx in c:\\users\\teren\\miniconda3\\lib\\site-packages (3.5)\n"
     ]
    }
   ],
   "source": [
    "!pip install networkx "
   ]
  },
  {
   "cell_type": "code",
   "execution_count": 126,
   "id": "cf702d0e-81c6-47a3-a2af-c0f96e3d8035",
   "metadata": {},
   "outputs": [],
   "source": [
    "import networkx as nx\n",
    "import matplotlib.pyplot as plt"
   ]
  },
  {
   "cell_type": "code",
   "execution_count": 127,
   "id": "c718f3bc-1374-4faf-ba4f-65d971e07837",
   "metadata": {},
   "outputs": [],
   "source": [
    "weighted_edges = [\n",
    "    (0, 1, 2.5),\n",
    "    (0, 2, 1.0),\n",
    "    (1, 3, 3.5),\n",
    "    (2, 3, 2.0),\n",
    "    (3, 4, 4.5),\n",
    "    (6, 5, 2.0), \n",
    "    (5, 6, 4.0),\n",
    "    (2, 4, 3.0)\n",
    "]\n",
    "weighted_directed = GraphFactory.from_edges(vertices=7, edges=weighted_edges, directed=True)"
   ]
  },
  {
   "cell_type": "code",
   "execution_count": 128,
   "id": "7e5f009c-019a-4497-8abf-a2a9df264246",
   "metadata": {},
   "outputs": [],
   "source": [
    "def visualize_graph(graph, title=\"Graph Visualization\"):\n",
    "    adj = graph.get_adjacency_list()\n",
    "    G = nx.DiGraph() if graph.directed else nx.Graph()\n",
    "\n",
    "    # Add edges\n",
    "    for u, neighbors in adj.items():\n",
    "        for v, _ in neighbors:\n",
    "            G.add_edge(u, v)\n",
    "\n",
    "    pos = nx.spring_layout(G, seed=42)  # fixed layout for consistency\n",
    "    plt.figure(figsize=(6, 4))\n",
    "    nx.draw_networkx_nodes(G, pos, node_color=\"hotpink\", node_size=200, edgecolors=\"black\")\n",
    "    nx.draw_networkx_labels(G, pos, font_size=10, font_color=\"white\")\n",
    "    if graph.directed:\n",
    "        nx.draw_networkx_edges(G, pos, arrowstyle=\"->\", arrowsize=15, edge_color=\"pink\")\n",
    "    else:\n",
    "        nx.draw_networkx_edges(G, pos, edge_color=\"pink\")\n",
    "    plt.title(title, fontsize=14)\n",
    "    plt.axis(\"off\")\n",
    "    plt.show()"
   ]
  },
  {
   "cell_type": "code",
   "execution_count": 129,
   "id": "70e5d209-12b0-437b-98d7-83cb8a41e73b",
   "metadata": {},
   "outputs": [
    {
     "data": {
      "image/png": "[encoded data removed]",
      "text/plain": [
       "<Figure size 600x400 with 1 Axes>"
      ]
     },
     "metadata": {},
     "output_type": "display_data"
    },
    {
     "data": {
      "image/png": "[encoded data removed]",
      "text/plain": [
       "<Figure size 600x400 with 1 Axes>"
      ]
     },
     "metadata": {},
     "output_type": "display_data"
    }
   ],
   "source": [
    "visualize_graph(weighted_directed, \"Weighted Directed Graph\")\n",
    "visualize_graph(unweighted_undirected, \"Unweighted Undirected Graph\") # Yes, that is Ursa Major"
   ]
  },
  {
   "cell_type": "markdown",
   "id": "ae29a437-cb14-4d46-b12e-5a0e5214a688",
   "metadata": {},
   "source": [
    "I wanted to draw something. Could not do dog etc. or something more complicated, so I PRESENT TO YOU "
   ]
  },
  {
   "cell_type": "code",
   "execution_count": 130,
   "id": "fc559a68-573f-4a9a-a38a-ba4139d4fa77",
   "metadata": {},
   "outputs": [
    {
     "data": {
      "image/png": "[encoded data removed]",
      "text/plain": [
       "<Figure size 600x600 with 1 Axes>"
      ]
     },
     "metadata": {},
     "output_type": "display_data"
    }
   ],
   "source": [
    "vertices = 12\n",
    "edges = [\n",
    "    (0, 1, 1.0), (1, 2, 1.0), (2, 3, 1.0), (3, 4, 1.0), (4, 5, 1.0),\n",
    "    (5, 6, 1.0), (6, 7, 1.0), (7, 8, 1.0), (8, 9, 1.0),\n",
    "    (9, 10, 1.0), (10, 11, 1.0), (11, 0, 1.0)\n",
    "]\n",
    "\n",
    "heart_graph = GraphFactory.from_edges(vertices, edges, directed=False)\n",
    "\n",
    "pos = {\n",
    "    0: (0, 0.9),\n",
    "    1: (-0.3, 1.0),\n",
    "    2: (-0.6, 0.8),\n",
    "    3: (-0.8, 0.4),\n",
    "    4: (-0.7, 0.0),\n",
    "    5: (-0.4, -0.4),\n",
    "    6: (0, -0.8),\n",
    "    7: (0.4, -0.4),\n",
    "    8: (0.7, 0.0),\n",
    "    9: (0.8, 0.4),\n",
    "    10: (0.6, 0.8),\n",
    "    11: (0.3, 1.0)\n",
    "}\n",
    "\n",
    "G = nx.Graph()\n",
    "for u, neighbors in heart_graph.get_adjacency_list().items():\n",
    "    for v, _ in neighbors:\n",
    "        G.add_edge(u, v)\n",
    "\n",
    "plt.figure(figsize=(6, 6))\n",
    "nx.draw_networkx_nodes(G, pos, node_color=\"hotpink\", node_size=900, edgecolors=\"black\")\n",
    "nx.draw_networkx_edges(G, pos, width=2.0, edge_color=\"pink\")\n",
    "nx.draw_networkx_labels(G, pos, font_color=\"white\", font_weight=\"bold\", font_size=10)\n",
    "plt.show()\n"
   ]
  }
 ],
 "metadata": {
  "kernelspec": {
   "display_name": "Python 3 (ipykernel)",
   "language": "python",
   "name": "python3"
  },
  "language_info": {
   "codemirror_mode": {
    "name": "ipython",
    "version": 3
   },
   "file_extension": ".py",
   "mimetype": "text/x-python",
   "name": "python",
   "nbconvert_exporter": "python",
   "pygments_lexer": "ipython3",
   "version": "3.13.5"
  }
 },
 "nbformat": 4,
 "nbformat_minor": 5
}
